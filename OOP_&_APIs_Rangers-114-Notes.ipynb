{
 "cells": [
  {
   "cell_type": "markdown",
   "metadata": {},
   "source": [
    "# Object Oriented Programming 2 - examples and APIs\n"
   ]
  },
  {
   "cell_type": "markdown",
   "metadata": {},
   "source": [
    "## Tasks Today:\n",
    "\n",
    "   \n",
    "\n",
    "1) <b>Shopping Cart Example</b> <br>\n",
    "2) <b>Requests and the pokemon API </b> <br>\n",
    " "
   ]
  },
  {
   "cell_type": "markdown",
   "metadata": {},
   "source": [
    "# Goal \n",
    "### build a shopping cart program with prices and quantities using objects and a dictionary"
   ]
  },
  {
   "cell_type": "code",
   "execution_count": 27,
   "metadata": {},
   "outputs": [],
   "source": [
    "from  IPython.display import clear_output as clear\n",
    "\n",
    "class Cart():\n",
    "    def __init__(self):\n",
    "        self.items = {}\n",
    "        \n",
    "    def add_item(self):\n",
    "        clear()\n",
    "        new_item = input(\"What do you wanna add: \")\n",
    "        quantity = int(input(\"how many Items: \"))\n",
    "        if new_item not in self.items:\n",
    "            self.items[new_item]= quantity\n",
    "        else:\n",
    "            self.items[new_item] += quantity\n",
    "        print(f\"{quantity} {new_item} has been added to your cart\")\n",
    "        \n",
    "    #remove items from cart\n",
    "    def remove_item(self):\n",
    "        clear()\n",
    "        \n",
    "        discard = input(\"What do you wanna remove: \")\n",
    "        quantity = int(input(\"How many: \"))\n",
    "        try:\n",
    "            self.items[discard] += quantity\n",
    "            if self.items[discard] <=0:\n",
    "                del self.items[discard]\n",
    "            print(\"Something has been removed\")\n",
    "        except:\n",
    "            print(f\"{discard} was not in your cart\")\n",
    "        self.show()\n",
    "        \n",
    "    def show(self):\n",
    "        print(\"Your cart has the following: \")\n",
    "        for item, quantity in self.items.items():\n",
    "            print(f\"{item} {quantity}\")\n",
    "            print(\"Please buy something, dont be cheap\")\n",
    "        else:\n",
    "            print(\"Thanks for shopping at Aldi! Do you need any stamps, garbage, stickers:\")\n",
    "            \n",
    "    \n",
    "    \n",
    "#control flow -- run the program\n",
    "class Main:\n",
    "    def show_instructions():\n",
    "        print(\"\"\"\n",
    "        welcome to Aldi were stoked to have you\n",
    "        Options:\n",
    "        [1] Show Current Cart \n",
    "        [2] Add Item\n",
    "        [3]Remove\"\n",
    "        [4] Checkout\n",
    "        [5] show instruction\n",
    "        \"\"\")\n",
    "        \n",
    "    def run():\n",
    "        Main.show_instructions()\n",
    "        my_cart = Cart()\n",
    "        \n",
    "        while True:\n",
    "            choice = input(\"What do you want to do: \")\n",
    "            if choice == '1':\n",
    "                if my_cart.items == {}:\n",
    "                    print(\"Your cart is empty\")\n",
    "                else:\n",
    "                    my_cart.show()\n",
    "            elif choice == '2':\n",
    "                my_cart.add_item()\n",
    "                \n",
    "            elif choice == '3':\n",
    "                if my_cart == {}:\n",
    "                    print(\"Your cart is empty. you cantr remove something thats not there: \")\n",
    "                else:\n",
    "                    my_cart.remove_item()\n",
    "                    \n",
    "            elif choice == '4':\n",
    "                my_cart.checkout()\n",
    "                break\n",
    "                \n",
    "            elif choice == '5':\n",
    "                Main.show_instructions()\n",
    "                \n",
    "            else:\n",
    "                print(\"Invalid\")\n",
    "                \n",
    "                \n",
    "    "
   ]
  },
  {
   "cell_type": "code",
   "execution_count": 28,
   "metadata": {},
   "outputs": [
    {
     "name": "stdout",
     "output_type": "stream",
     "text": [
      "What do you wanna remove: pants\n",
      "How many: 200\n",
      "Something has been removed\n",
      "Your cart has the following: \n",
      "pants 600\n",
      "Please buy something, dont be cheap\n",
      "boats 2\n",
      "Please buy something, dont be cheap\n",
      "Thanks for shopping at Aldi! Do you need any stamps, garbage, stickers:\n",
      "What do you want to do: 5\n",
      "\n",
      "        welcome to Aldi were stoked to have you\n",
      "        Options:\n",
      "        [1] Show Current Cart \n",
      "        [2] Add Item\n",
      "        [3]Remove\"\n",
      "        [4] Checkout\n",
      "        [5] show instruction\n",
      "        \n",
      "What do you want to do: 1\n",
      "Your cart has the following: \n",
      "pants 600\n",
      "Please buy something, dont be cheap\n",
      "boats 2\n",
      "Please buy something, dont be cheap\n",
      "Thanks for shopping at Aldi! Do you need any stamps, garbage, stickers:\n"
     ]
    },
    {
     "ename": "KeyboardInterrupt",
     "evalue": "Interrupted by user",
     "output_type": "error",
     "traceback": [
      "\u001b[0;31m---------------------------------------------------------------------------\u001b[0m",
      "\u001b[0;31mKeyboardInterrupt\u001b[0m                         Traceback (most recent call last)",
      "Cell \u001b[0;32mIn[28], line 1\u001b[0m\n\u001b[0;32m----> 1\u001b[0m \u001b[43mMain\u001b[49m\u001b[38;5;241;43m.\u001b[39;49m\u001b[43mrun\u001b[49m\u001b[43m(\u001b[49m\u001b[43m)\u001b[49m\n",
      "Cell \u001b[0;32mIn[27], line 60\u001b[0m, in \u001b[0;36mMain.run\u001b[0;34m()\u001b[0m\n\u001b[1;32m     57\u001b[0m my_cart \u001b[38;5;241m=\u001b[39m Cart()\n\u001b[1;32m     59\u001b[0m \u001b[38;5;28;01mwhile\u001b[39;00m \u001b[38;5;28;01mTrue\u001b[39;00m:\n\u001b[0;32m---> 60\u001b[0m     choice \u001b[38;5;241m=\u001b[39m \u001b[38;5;28;43minput\u001b[39;49m\u001b[43m(\u001b[49m\u001b[38;5;124;43m\"\u001b[39;49m\u001b[38;5;124;43mWhat do you want to do: \u001b[39;49m\u001b[38;5;124;43m\"\u001b[39;49m\u001b[43m)\u001b[49m\n\u001b[1;32m     61\u001b[0m     \u001b[38;5;28;01mif\u001b[39;00m choice \u001b[38;5;241m==\u001b[39m \u001b[38;5;124m'\u001b[39m\u001b[38;5;124m1\u001b[39m\u001b[38;5;124m'\u001b[39m:\n\u001b[1;32m     62\u001b[0m         \u001b[38;5;28;01mif\u001b[39;00m my_cart\u001b[38;5;241m.\u001b[39mitems \u001b[38;5;241m==\u001b[39m {}:\n",
      "File \u001b[0;32m/Library/Frameworks/Python.framework/Versions/3.9/lib/python3.9/site-packages/ipykernel/kernelbase.py:1191\u001b[0m, in \u001b[0;36mKernel.raw_input\u001b[0;34m(self, prompt)\u001b[0m\n\u001b[1;32m   1189\u001b[0m     msg \u001b[38;5;241m=\u001b[39m \u001b[38;5;124m\"\u001b[39m\u001b[38;5;124mraw_input was called, but this frontend does not support input requests.\u001b[39m\u001b[38;5;124m\"\u001b[39m\n\u001b[1;32m   1190\u001b[0m     \u001b[38;5;28;01mraise\u001b[39;00m StdinNotImplementedError(msg)\n\u001b[0;32m-> 1191\u001b[0m \u001b[38;5;28;01mreturn\u001b[39;00m \u001b[38;5;28;43mself\u001b[39;49m\u001b[38;5;241;43m.\u001b[39;49m\u001b[43m_input_request\u001b[49m\u001b[43m(\u001b[49m\n\u001b[1;32m   1192\u001b[0m \u001b[43m    \u001b[49m\u001b[38;5;28;43mstr\u001b[39;49m\u001b[43m(\u001b[49m\u001b[43mprompt\u001b[49m\u001b[43m)\u001b[49m\u001b[43m,\u001b[49m\n\u001b[1;32m   1193\u001b[0m \u001b[43m    \u001b[49m\u001b[38;5;28;43mself\u001b[39;49m\u001b[38;5;241;43m.\u001b[39;49m\u001b[43m_parent_ident\u001b[49m\u001b[43m[\u001b[49m\u001b[38;5;124;43m\"\u001b[39;49m\u001b[38;5;124;43mshell\u001b[39;49m\u001b[38;5;124;43m\"\u001b[39;49m\u001b[43m]\u001b[49m\u001b[43m,\u001b[49m\n\u001b[1;32m   1194\u001b[0m \u001b[43m    \u001b[49m\u001b[38;5;28;43mself\u001b[39;49m\u001b[38;5;241;43m.\u001b[39;49m\u001b[43mget_parent\u001b[49m\u001b[43m(\u001b[49m\u001b[38;5;124;43m\"\u001b[39;49m\u001b[38;5;124;43mshell\u001b[39;49m\u001b[38;5;124;43m\"\u001b[39;49m\u001b[43m)\u001b[49m\u001b[43m,\u001b[49m\n\u001b[1;32m   1195\u001b[0m \u001b[43m    \u001b[49m\u001b[43mpassword\u001b[49m\u001b[38;5;241;43m=\u001b[39;49m\u001b[38;5;28;43;01mFalse\u001b[39;49;00m\u001b[43m,\u001b[49m\n\u001b[1;32m   1196\u001b[0m \u001b[43m\u001b[49m\u001b[43m)\u001b[49m\n",
      "File \u001b[0;32m/Library/Frameworks/Python.framework/Versions/3.9/lib/python3.9/site-packages/ipykernel/kernelbase.py:1234\u001b[0m, in \u001b[0;36mKernel._input_request\u001b[0;34m(self, prompt, ident, parent, password)\u001b[0m\n\u001b[1;32m   1231\u001b[0m \u001b[38;5;28;01mexcept\u001b[39;00m \u001b[38;5;167;01mKeyboardInterrupt\u001b[39;00m:\n\u001b[1;32m   1232\u001b[0m     \u001b[38;5;66;03m# re-raise KeyboardInterrupt, to truncate traceback\u001b[39;00m\n\u001b[1;32m   1233\u001b[0m     msg \u001b[38;5;241m=\u001b[39m \u001b[38;5;124m\"\u001b[39m\u001b[38;5;124mInterrupted by user\u001b[39m\u001b[38;5;124m\"\u001b[39m\n\u001b[0;32m-> 1234\u001b[0m     \u001b[38;5;28;01mraise\u001b[39;00m \u001b[38;5;167;01mKeyboardInterrupt\u001b[39;00m(msg) \u001b[38;5;28;01mfrom\u001b[39;00m \u001b[38;5;28mNone\u001b[39m\n\u001b[1;32m   1235\u001b[0m \u001b[38;5;28;01mexcept\u001b[39;00m \u001b[38;5;167;01mException\u001b[39;00m:\n\u001b[1;32m   1236\u001b[0m     \u001b[38;5;28mself\u001b[39m\u001b[38;5;241m.\u001b[39mlog\u001b[38;5;241m.\u001b[39mwarning(\u001b[38;5;124m\"\u001b[39m\u001b[38;5;124mInvalid Message:\u001b[39m\u001b[38;5;124m\"\u001b[39m, exc_info\u001b[38;5;241m=\u001b[39m\u001b[38;5;28;01mTrue\u001b[39;00m)\n",
      "\u001b[0;31mKeyboardInterrupt\u001b[0m: Interrupted by user"
     ]
    }
   ],
   "source": [
    "Main.run()"
   ]
  },
  {
   "cell_type": "markdown",
   "metadata": {},
   "source": [
    "# working with APis"
   ]
  },
  {
   "cell_type": "markdown",
   "metadata": {},
   "source": [
    "<p> What exactly is an API? <br> <br>\n",
    "API is the acronym for Application Programming Interface, which is a software intermediary that allows two applications to talk to each other. Each time you use an app like Facebook, send an instant message, or check the weather on your phone, you're using an API. </p>"
   ]
  },
  {
   "cell_type": "markdown",
   "metadata": {},
   "source": [
    "### The Poke API  allows you to retreive a pokemon's information from PokeAPI https://pokeapi.co/\n",
    "\n"
   ]
  },
  {
   "cell_type": "code",
   "execution_count": 31,
   "metadata": {},
   "outputs": [
    {
     "name": "stdout",
     "output_type": "stream",
     "text": [
      "Collecting requests\n",
      "  Downloading requests-2.28.2-py3-none-any.whl (62 kB)\n",
      "\u001b[K     |████████████████████████████████| 62 kB 990 kB/s eta 0:00:011\n",
      "\u001b[?25hCollecting charset-normalizer<4,>=2\n",
      "  Downloading charset_normalizer-3.1.0-cp39-cp39-macosx_10_9_x86_64.whl (124 kB)\n",
      "\u001b[K     |████████████████████████████████| 124 kB 5.9 MB/s eta 0:00:01\n",
      "\u001b[?25hCollecting urllib3<1.27,>=1.21.1\n",
      "  Downloading urllib3-1.26.15-py2.py3-none-any.whl (140 kB)\n",
      "\u001b[K     |████████████████████████████████| 140 kB 25.3 MB/s eta 0:00:01\n",
      "\u001b[?25hCollecting certifi>=2017.4.17\n",
      "  Using cached certifi-2022.12.7-py3-none-any.whl (155 kB)\n",
      "Requirement already satisfied: idna<4,>=2.5 in /Library/Frameworks/Python.framework/Versions/3.9/lib/python3.9/site-packages (from requests) (3.4)\n",
      "Installing collected packages: urllib3, charset-normalizer, certifi, requests\n",
      "Successfully installed certifi-2022.12.7 charset-normalizer-3.1.0 requests-2.28.2 urllib3-1.26.15\n",
      "\u001b[33mWARNING: You are using pip version 21.2.3; however, version 23.0.1 is available.\n",
      "You should consider upgrading via the '/Library/Frameworks/Python.framework/Versions/3.9/bin/python3.9 -m pip install --upgrade pip' command.\u001b[0m\n",
      "Note: you may need to restart the kernel to use updated packages.\n"
     ]
    }
   ],
   "source": [
    "pip install requests"
   ]
  },
  {
   "cell_type": "code",
   "execution_count": 34,
   "metadata": {},
   "outputs": [
    {
     "name": "stdout",
     "output_type": "stream",
     "text": [
      "<Response [200]>\n",
      "dict_keys(['abilities', 'base_experience', 'forms', 'game_indices', 'height', 'held_items', 'id', 'is_default', 'location_area_encounters', 'moves', 'name', 'order', 'past_types', 'species', 'sprites', 'stats', 'types', 'weight'])\n"
     ]
    }
   ],
   "source": [
    "# making an API call\n",
    "\n",
    "import requests\n",
    "\n",
    "r = requests.get('https://pokeapi.co/api/v2/pokemon/charmander')\n",
    "\n",
    "print(r)\n",
    "\n",
    "if r.status_code == 200:\n",
    "    data = r.json()\n",
    "    \n",
    "print(data.keys())"
   ]
  },
  {
   "cell_type": "markdown",
   "metadata": {},
   "source": [
    "### Display a Pokemon's name, weight, abilities, and types"
   ]
  },
  {
   "cell_type": "code",
   "execution_count": 36,
   "metadata": {},
   "outputs": [
    {
     "name": "stdout",
     "output_type": "stream",
     "text": [
      "charmander\n"
     ]
    }
   ],
   "source": [
    "name = data[\"name\"]\n",
    "print(name)"
   ]
  },
  {
   "cell_type": "code",
   "execution_count": 37,
   "metadata": {},
   "outputs": [
    {
     "name": "stdout",
     "output_type": "stream",
     "text": [
      "['fire']\n"
     ]
    }
   ],
   "source": [
    "# get types\n",
    "\n",
    "types = [type_[\"type\"][\"name\"] for type_ in data[\"types\"]]\n",
    "\n",
    "print(types)"
   ]
  },
  {
   "cell_type": "code",
   "execution_count": 38,
   "metadata": {},
   "outputs": [
    {
     "name": "stdout",
     "output_type": "stream",
     "text": [
      "85\n"
     ]
    }
   ],
   "source": [
    "#  get Pokemon weight\n",
    "\n",
    "weight = data[\"weight\"]\n",
    "print(weight)"
   ]
  },
  {
   "cell_type": "code",
   "execution_count": 40,
   "metadata": {},
   "outputs": [
    {
     "name": "stdout",
     "output_type": "stream",
     "text": [
      "['blaze', 'solar-power']\n"
     ]
    }
   ],
   "source": [
    "#  get abilities\n",
    "abilities = [ability[\"ability\"][\"name\"] for ability in data[\"abilities\"]]\n",
    "print(abilities)\n"
   ]
  },
  {
   "cell_type": "markdown",
   "metadata": {},
   "source": [
    "#### Create a function to Pull in your own Pokemon's data "
   ]
  },
  {
   "cell_type": "code",
   "execution_count": 44,
   "metadata": {},
   "outputs": [
    {
     "data": {
      "text/plain": [
       "{'name': 'noctowl',\n",
       " 'types': ['normal', 'flying'],\n",
       " 'abilities': ['insomnia', 'keen-eye', 'tinted-lens'],\n",
       " 'weight': 408}"
      ]
     },
     "execution_count": 44,
     "metadata": {},
     "output_type": "execute_result"
    }
   ],
   "source": [
    "import requests\n",
    "def poke_api_call(pokemon):\n",
    "    req = requests.get(f\"https://pokeapi.co/api/v2/pokemon/{pokemon}\")\n",
    "    if req.status_code == 200:\n",
    "        data = req.json()\n",
    "        \n",
    "        name = data[\"name\"]\n",
    "        types = [type_[\"type\"][\"name\"] for type_ in data[\"types\"]]\n",
    "        abilities = [ability[\"ability\"][\"name\"] for ability in data[\"abilities\"]]\n",
    "        weight = data[\"weight\"]\n",
    "        \n",
    "        poke = {\n",
    "            \"name\": name,\n",
    "            \"types\": types, \n",
    "            \"abilities\": abilities,\n",
    "            \"weight\": weight\n",
    "        }\n",
    "        return poke\n",
    "\n",
    "poke_api_call(\"noctowl\")"
   ]
  },
  {
   "cell_type": "markdown",
   "metadata": {},
   "source": [
    "Choose your pokemon"
   ]
  },
  {
   "cell_type": "code",
   "execution_count": 46,
   "metadata": {},
   "outputs": [
    {
     "name": "stdout",
     "output_type": "stream",
     "text": [
      "[547, 750, 771, 60, 328, 115]\n"
     ]
    }
   ],
   "source": [
    "from random import randint\n",
    "# Random number generated for each pokemon id\n",
    "random_team = [randint(1,898) for i in range(6)]\n",
    "\n",
    "your_team = ['electabuzz', 'haunter','tyranitar','blaziken','marowak','dragonair']\n",
    "\n",
    "print(random_team)"
   ]
  },
  {
   "cell_type": "markdown",
   "metadata": {},
   "source": [
    "#### Use your function to create a dictionary of your favorite 6 pokemon"
   ]
  },
  {
   "cell_type": "code",
   "execution_count": 52,
   "metadata": {},
   "outputs": [
    {
     "data": {
      "text/plain": [
       "{'Heracross': {'name': 'heracross',\n",
       "  'types': ['bug', 'fighting'],\n",
       "  'abilities': ['swarm', 'guts', 'moxie'],\n",
       "  'weight': 540},\n",
       " 'Vaporeon': {'name': 'vaporeon',\n",
       "  'types': ['water'],\n",
       "  'abilities': ['water-absorb', 'hydration'],\n",
       "  'weight': 290},\n",
       " 'Flygon': {'name': 'flygon',\n",
       "  'types': ['ground', 'dragon'],\n",
       "  'abilities': ['levitate'],\n",
       "  'weight': 820},\n",
       " 'Charizard': {'name': 'charizard',\n",
       "  'types': ['fire', 'flying'],\n",
       "  'abilities': ['blaze', 'solar-power'],\n",
       "  'weight': 905},\n",
       " 'Pidgeot': {'name': 'pidgeot',\n",
       "  'types': ['normal', 'flying'],\n",
       "  'abilities': ['keen-eye', 'tangled-feet', 'big-pecks'],\n",
       "  'weight': 395},\n",
       " 'Crobat': {'name': 'crobat',\n",
       "  'types': ['poison', 'flying'],\n",
       "  'abilities': ['inner-focus', 'infiltrator'],\n",
       "  'weight': 750}}"
      ]
     },
     "execution_count": 52,
     "metadata": {},
     "output_type": "execute_result"
    }
   ],
   "source": [
    "# Place all 6 of your pokemon on the object below, each pokemon should have at least as much info as Pikachu did.\n",
    "party = ['heracross', 'vaporeon', 'flygon', 'charizard', 'pidgeot', 'crobat']\n",
    "my_team = {}\n",
    "\n",
    "for pokemon in party:\n",
    "    poke_stats = poke_api_call(pokemon)\n",
    "    my_team[poke_stats[\"name\"].title()] = poke_stats\n",
    "    \n",
    "my_team\n"
   ]
  },
  {
   "cell_type": "markdown",
   "metadata": {},
   "source": [
    "## Lets create a class called 'Pokemon' and create our pokemon as instances"
   ]
  },
  {
   "cell_type": "code",
   "execution_count": 55,
   "metadata": {},
   "outputs": [
    {
     "name": "stdout",
     "output_type": "stream",
     "text": [
      "charmander's data has been updated!\n"
     ]
    }
   ],
   "source": [
    "class Pokemon():\n",
    "    def __init__(self, name):\n",
    "        self.name = name\n",
    "        self.types = []\n",
    "        self.abilities = []\n",
    "        self.weight = None\n",
    "        self.poke_api_call()\n",
    "        \n",
    "    def poke_api_call(self):\n",
    "        r = requests.get(f\"https://pokeapi.co/api/v2/pokemon/{self.name.lower()}\")\n",
    "        if r.status_code == 200:\n",
    "            pokemon = r.json()\n",
    "        else:\n",
    "            print(f\"please check Pokemon spelling and try again: {r.status_code}\")\n",
    "            return\n",
    "        self.name = pokemon[\"name\"]\n",
    "        self.types = [type_[\"type\"][\"name\"] for type_ in pokemon[\"types\"]]\n",
    "        self.abilities = [ability[\"ability\"][\"name\"] for ability in pokemon[\"abilities\"]]\n",
    "        self.weight = pokemon[\"weight\"]\n",
    "        print(f\"{self.name}'s data has been updated!\")\n",
    "        \n",
    "    def __repr__(self):\n",
    "        return f\"You caught a {self.name}\"\n",
    "    \n",
    "        \n",
    "charmander = Pokemon(\"charmander\")"
   ]
  },
  {
   "cell_type": "code",
   "execution_count": 57,
   "metadata": {},
   "outputs": [
    {
     "name": "stdout",
     "output_type": "stream",
     "text": [
      "You caught a charmander\n",
      "charmander\n",
      "['fire']\n",
      "['blaze', 'solar-power']\n",
      "85\n"
     ]
    }
   ],
   "source": [
    "print(charmander)\n",
    "print(charmander.name)\n",
    "print(charmander.types)\n",
    "print(charmander.abilities)\n",
    "print(charmander.weight)"
   ]
  },
  {
   "cell_type": "markdown",
   "metadata": {},
   "source": [
    "### Let's Catch some Pokemon"
   ]
  },
  {
   "cell_type": "markdown",
   "metadata": {},
   "source": [
    "## Exercise 1:"
   ]
  },
  {
   "cell_type": "markdown",
   "metadata": {},
   "source": [
    "### Create a Method prints an image of your pokemon\n",
    "\n",
    "<p>HINT: You may need another attribute as well to store your image url within. </p>"
   ]
  },
  {
   "cell_type": "code",
   "execution_count": 65,
   "metadata": {},
   "outputs": [
    {
     "data": {
      "text/html": [
       "<img src=\"https://i.redd.it/45n4mhusa8l41.jpg\" width=\"300\"/>"
      ],
      "text/plain": [
       "<IPython.core.display.Image object>"
      ]
     },
     "metadata": {},
     "output_type": "display_data"
    }
   ],
   "source": [
    "# Display an image in Jupyter notebook\n",
    "from IPython.display import Image\n",
    "\n",
    "display(Image(url= 'https://i.redd.it/45n4mhusa8l41.jpg', width = 300))\n"
   ]
  },
  {
   "cell_type": "code",
   "execution_count": 66,
   "metadata": {},
   "outputs": [],
   "source": [
    "# recreate your pokemon class here\n",
    "class Pokemon():\n",
    "    def __init__(self, name):\n",
    "        self.name = name\n",
    "        self.types = []\n",
    "        self.abilities = []\n",
    "        self.weight = None\n",
    "        self.image = None\n",
    "        self.poke_api_call()\n",
    "        \n",
    "    def poke_api_call(self):\n",
    "        r = requests.get(f\"https://pokeapi.co/api/v2/pokemon/{self.name.lower()}\")\n",
    "        if r.status_code == 200:\n",
    "            pokemon = r.json()\n",
    "        else:\n",
    "            print(f\"please check Pokemon spelling and try again: {r.status_code}\")\n",
    "            return\n",
    "        self.name = pokemon[\"name\"]\n",
    "        self.types = [type_[\"type\"][\"name\"] for type_ in pokemon[\"types\"]]\n",
    "        self.abilities = [ability[\"ability\"][\"name\"] for ability in pokemon[\"abilities\"]]\n",
    "        self.weight = pokemon[\"weight\"]\n",
    "        self.image = pokemon[\"sprites\"][\"other\"][\"home\"][\"front_default\"]\n",
    "        print(f\"{self.name}'s data has been updated!\")\n",
    "        \n",
    "    #display img\n",
    "    def display(self):\n",
    "        display(Image(url = self.image))\n",
    "        \n",
    "    def __repr__(self):\n",
    "        return f\"You caught a {self.name}\"\n",
    "    \n",
    "        \n",
    "\n",
    "        \n",
    "    "
   ]
  },
  {
   "cell_type": "code",
   "execution_count": 67,
   "metadata": {},
   "outputs": [
    {
     "name": "stdout",
     "output_type": "stream",
     "text": [
      "flygon's data has been updated!\n"
     ]
    },
    {
     "data": {
      "text/html": [
       "<img src=\"https://raw.githubusercontent.com/PokeAPI/sprites/master/sprites/pokemon/other/home/330.png\"/>"
      ],
      "text/plain": [
       "<IPython.core.display.Image object>"
      ]
     },
     "metadata": {},
     "output_type": "display_data"
    }
   ],
   "source": [
    "flygon = Pokemon(\"flygon\")\n",
    "flygon.display()"
   ]
  },
  {
   "cell_type": "markdown",
   "metadata": {},
   "source": [
    "## Exercise 2:"
   ]
  },
  {
   "cell_type": "markdown",
   "metadata": {},
   "source": [
    "### Create a Method that evolves your Pokemon\n",
    "If your pokemon can't evolve any further print a message that says \"\\<name of pokemon> can't evolve.\""
   ]
  },
  {
   "cell_type": "markdown",
   "metadata": {},
   "source": [
    "Now let's evolve a few"
   ]
  },
  {
   "cell_type": "code",
   "execution_count": 72,
   "metadata": {},
   "outputs": [],
   "source": [
    "# recreate your pokemon class here\n",
    "from IPython.display import Image\n",
    "import requests\n",
    "\n",
    "\n",
    "class Pokemon():\n",
    "    def __init__(self, name):\n",
    "        self.name = name\n",
    "        self.types = []\n",
    "        self.abilities = []\n",
    "        self.weight = None\n",
    "        self.image = None\n",
    "        self.poke_api_call()\n",
    "        \n",
    "    def poke_api_call(self):\n",
    "        r = requests.get(f\"https://pokeapi.co/api/v2/pokemon/{self.name.lower()}\")\n",
    "        if r.status_code == 200:\n",
    "            pokemon = r.json()\n",
    "        else:\n",
    "            print(f\"please check Pokemon spelling and try again: {r.status_code}\")\n",
    "            return\n",
    "        self.name = pokemon[\"name\"]\n",
    "        self.types = [type_[\"type\"][\"name\"] for type_ in pokemon[\"types\"]]\n",
    "        self.abilities = [ability[\"ability\"][\"name\"] for ability in pokemon[\"abilities\"]]\n",
    "        self.weight = pokemon[\"weight\"]\n",
    "        self.image = pokemon[\"sprites\"][\"other\"][\"home\"][\"front_default\"]\n",
    "        print(f\"{self.name}'s data has been updated!\")\n",
    "        \n",
    "    #display img\n",
    "    def display(self):\n",
    "        display(Image(url = self.image))\n",
    "        \n",
    "    def __repr__(self):\n",
    "        return f\"You caught a {self.name}\"\n",
    "    \n",
    "        \n"
   ]
  },
  {
   "cell_type": "code",
   "execution_count": 73,
   "metadata": {
    "scrolled": true
   },
   "outputs": [],
   "source": [
    "import requests\n",
    "# recreate your pokemon class herea\n"
   ]
  },
  {
   "cell_type": "code",
   "execution_count": 174,
   "metadata": {},
   "outputs": [],
   "source": [
    "## Evolver class should inherit pokemon class\n",
    "from time import sleep\n",
    "#display images for evolved pokemon\n",
    "from IPython.display import Image\n",
    "\n",
    "class Evolver(Pokemon):\n",
    "    def __init__(self, name):\n",
    "        super().__init__(name)\n",
    "        \n",
    "    def evolve(self):\n",
    "        #Api call for pokemon species\n",
    "        r = requests.get(f\"https://pokeapi.co/api/v2/pokemon-species/{self.name.lower()}/\")\n",
    "        if r.status_code == 200:\n",
    "            pokemon_species = r.json()\n",
    "        else:\n",
    "            print(f\"Ran into an issue, check spelling: {r.status_code}\")\n",
    "            return\n",
    "        r = requests.get(pokemon_species[\"evolution_chain\"][\"url\"])\n",
    "        if r.status_code == 200:\n",
    "            ev_chain = r.json()\n",
    "            ev_chain = ev_chain[\"chain\"]\n",
    "        else:\n",
    "            print(f\"check spelling {r.status_code}\")\n",
    "            return\n",
    "        \n",
    "        base_name = ev_chain[\"species\"][\"name\"]\n",
    "        evolution = ev_chain[\"evolves_to\"][0]\n",
    "        evolution_name = evolution[\"species\"][\"name\"]\n",
    "        \n",
    "        #Evolution 1\n",
    "        if base_name == self.name:\n",
    "            pass\n",
    "        \n",
    "        #Evolution 2\n",
    "        elif evolution_name == self.name:\n",
    "            evolution_name = evolution[\"evolves_to\"][0][\"species\"][\"name\"]\n",
    "            \n",
    "        #attempting another evolution after the final\n",
    "        \n",
    "        else:\n",
    "            print(f\"you can not evolve your {self.name} any furthur..\")\n",
    "            return\n",
    "        print(\".......\")\n",
    "        sleep(1)\n",
    "        print(f\"your {self.name} is evolving ?!?!?!?!?!?!\")\n",
    "        self.display()\n",
    "        sleep(1)\n",
    "        print(\".....\")\n",
    "        print(f\"congradulations your {self.name} has evolved to .......\")\n",
    "        self.name = evolution_name\n",
    "        self.poke_api_call()\n",
    "        print(f\"{self.name.title()}!!!!!!!\")\n",
    "        self.display()\n",
    "        \n",
    "        \n"
   ]
  },
  {
   "cell_type": "code",
   "execution_count": 175,
   "metadata": {
    "scrolled": true
   },
   "outputs": [
    {
     "name": "stdout",
     "output_type": "stream",
     "text": [
      "trapinch's data has been updated!\n"
     ]
    }
   ],
   "source": [
    "trapinch = Evolver(\"trapinch\")\n"
   ]
  },
  {
   "cell_type": "code",
   "execution_count": 176,
   "metadata": {
    "scrolled": false
   },
   "outputs": [
    {
     "name": "stdout",
     "output_type": "stream",
     "text": [
      ".......\n",
      "your trapinch is evolving ?!?!?!?!?!?!\n"
     ]
    },
    {
     "data": {
      "text/html": [
       "<img src=\"https://raw.githubusercontent.com/PokeAPI/sprites/master/sprites/pokemon/other/home/328.png\"/>"
      ],
      "text/plain": [
       "<IPython.core.display.Image object>"
      ]
     },
     "metadata": {},
     "output_type": "display_data"
    },
    {
     "name": "stdout",
     "output_type": "stream",
     "text": [
      ".....\n",
      "congradulations your trapinch has evolved to .......\n",
      "vibrava's data has been updated!\n",
      "Vibrava!!!!!!!\n"
     ]
    },
    {
     "data": {
      "text/html": [
       "<img src=\"https://raw.githubusercontent.com/PokeAPI/sprites/master/sprites/pokemon/other/home/329.png\"/>"
      ],
      "text/plain": [
       "<IPython.core.display.Image object>"
      ]
     },
     "metadata": {},
     "output_type": "display_data"
    }
   ],
   "source": [
    "trapinch.evolve()"
   ]
  },
  {
   "cell_type": "code",
   "execution_count": 177,
   "metadata": {
    "scrolled": true
   },
   "outputs": [
    {
     "name": "stdout",
     "output_type": "stream",
     "text": [
      ".......\n",
      "your vibrava is evolving ?!?!?!?!?!?!\n"
     ]
    },
    {
     "data": {
      "text/html": [
       "<img src=\"https://raw.githubusercontent.com/PokeAPI/sprites/master/sprites/pokemon/other/home/329.png\"/>"
      ],
      "text/plain": [
       "<IPython.core.display.Image object>"
      ]
     },
     "metadata": {},
     "output_type": "display_data"
    },
    {
     "name": "stdout",
     "output_type": "stream",
     "text": [
      ".....\n",
      "congradulations your vibrava has evolved to .......\n",
      "flygon's data has been updated!\n",
      "Flygon!!!!!!!\n"
     ]
    },
    {
     "data": {
      "text/html": [
       "<img src=\"https://raw.githubusercontent.com/PokeAPI/sprites/master/sprites/pokemon/other/home/330.png\"/>"
      ],
      "text/plain": [
       "<IPython.core.display.Image object>"
      ]
     },
     "metadata": {},
     "output_type": "display_data"
    }
   ],
   "source": [
    "trapinch.evolve()"
   ]
  },
  {
   "cell_type": "code",
   "execution_count": 178,
   "metadata": {},
   "outputs": [
    {
     "name": "stdout",
     "output_type": "stream",
     "text": [
      "you can not evolve your flygon any furthur..\n"
     ]
    }
   ],
   "source": [
    "trapinch.evolve()"
   ]
  },
  {
   "cell_type": "markdown",
   "metadata": {},
   "source": [
    "#  Final Exercise: <br> <br>Create a Move_Tutor Class that in herits from the Pokemon parent class.\n",
    "\n",
    "<p><b>This class should have a list attribute that holds pokemon moves which should be populated with an api call to the PokeApi moves section. Finally create a class method that teaches your pokemon up to 4 moves.</b></p> \n",
    "\n"
   ]
  },
  {
   "cell_type": "code",
   "execution_count": 170,
   "metadata": {},
   "outputs": [],
   "source": [
    "import requests\n",
    "\n",
    "class Move_Tutor(Pokemon):\n",
    "    def __init__(self):\n",
    "        super().__init__(name)\n",
    "        self.move_list = []\n",
    "        self.new_move_list = []\n",
    "    def populate_move(self):\n",
    "        r = requests.get(f\"https://pokeapi.co/api/v2/pokemon/{self.name.lower()}\")\n",
    "        if r.status_code == 200:\n",
    "            poke_data = r.json()\n",
    "        else:\n",
    "            print(f\"please check Pokemon spelling and try again: {r.status_code}\")\n",
    "            return\n",
    "#         print(poke_data[\"moves\"])\n",
    "        self.move_list = [moves[\"move\"][\"name\"] for moves in poke_data[\"moves\"]]\n",
    "        self.name.title()\n",
    "    \n",
    "    def teach_move(self):\n",
    "        while True:\n",
    "            print(self.move_list)\n",
    "            new_move = input(f\"What move do you want to teach your {self.name.title()}: \")\n",
    "            if new_move in self.move_list:\n",
    "                \n",
    "                print(f\"You just tought your {self.name.title()} {new_move}\")\n",
    "                self.new_move_list.append(new_move)\n",
    "            else:\n",
    "                print(f\"Sorry that move is not an option for the {self.name.title()}\")\n",
    "            if input(\"Add another move? (y/n): \").lower() != \"y\":\n",
    "                break\n",
    "\n",
    "            \n",
    "    def show_moves(self):\n",
    "        print(f\"Your moves are: \")\n",
    "        for i in self.new_move_list:\n",
    "            print(i)"
   ]
  },
  {
   "cell_type": "code",
   "execution_count": 171,
   "metadata": {},
   "outputs": [],
   "source": [
    "# self.abilities = [ability[\"ability\"][\"name\"] for ability in pokemon[\"abilities\"]]"
   ]
  },
  {
   "cell_type": "code",
   "execution_count": 172,
   "metadata": {},
   "outputs": [
    {
     "name": "stdout",
     "output_type": "stream",
     "text": [
      "charmander's data has been updated!\n",
      "['mega-punch', 'fire-punch', 'thunder-punch', 'scratch', 'swords-dance', 'cut', 'wing-attack', 'mega-kick', 'headbutt', 'body-slam', 'take-down', 'double-edge', 'leer', 'bite', 'growl', 'ember', 'flamethrower', 'submission', 'counter', 'seismic-toss', 'strength', 'dragon-rage', 'fire-spin', 'dig', 'toxic', 'rage', 'mimic', 'double-team', 'smokescreen', 'defense-curl', 'reflect', 'bide', 'fire-blast', 'swift', 'skull-bash', 'fury-swipes', 'rest', 'rock-slide', 'slash', 'substitute', 'snore', 'curse', 'protect', 'scary-face', 'belly-drum', 'mud-slap', 'outrage', 'endure', 'false-swipe', 'swagger', 'fury-cutter', 'attract', 'sleep-talk', 'return', 'frustration', 'dynamic-punch', 'dragon-breath', 'iron-tail', 'metal-claw', 'hidden-power', 'sunny-day', 'crunch', 'ancient-power', 'rock-smash', 'beat-up', 'heat-wave', 'will-o-wisp', 'facade', 'focus-punch', 'helping-hand', 'brick-break', 'secret-power', 'weather-ball', 'air-cutter', 'overheat', 'rock-tomb', 'aerial-ace', 'dragon-claw', 'dragon-dance', 'natural-gift', 'fling', 'flare-blitz', 'dragon-pulse', 'dragon-rush', 'focus-blast', 'shadow-claw', 'fire-fang', 'captivate', 'hone-claws', 'flame-burst', 'flame-charge', 'round', 'echoed-voice', 'incinerate', 'acrobatics', 'inferno', 'fire-pledge', 'dragon-tail', 'work-up', 'confide', 'power-up-punch', 'tera-blast']\n",
      "What move do you want to teach your Charmander: cut\n",
      "You just tought your Charmander cut\n",
      "Add another move? (y/n): y\n",
      "['mega-punch', 'fire-punch', 'thunder-punch', 'scratch', 'swords-dance', 'cut', 'wing-attack', 'mega-kick', 'headbutt', 'body-slam', 'take-down', 'double-edge', 'leer', 'bite', 'growl', 'ember', 'flamethrower', 'submission', 'counter', 'seismic-toss', 'strength', 'dragon-rage', 'fire-spin', 'dig', 'toxic', 'rage', 'mimic', 'double-team', 'smokescreen', 'defense-curl', 'reflect', 'bide', 'fire-blast', 'swift', 'skull-bash', 'fury-swipes', 'rest', 'rock-slide', 'slash', 'substitute', 'snore', 'curse', 'protect', 'scary-face', 'belly-drum', 'mud-slap', 'outrage', 'endure', 'false-swipe', 'swagger', 'fury-cutter', 'attract', 'sleep-talk', 'return', 'frustration', 'dynamic-punch', 'dragon-breath', 'iron-tail', 'metal-claw', 'hidden-power', 'sunny-day', 'crunch', 'ancient-power', 'rock-smash', 'beat-up', 'heat-wave', 'will-o-wisp', 'facade', 'focus-punch', 'helping-hand', 'brick-break', 'secret-power', 'weather-ball', 'air-cutter', 'overheat', 'rock-tomb', 'aerial-ace', 'dragon-claw', 'dragon-dance', 'natural-gift', 'fling', 'flare-blitz', 'dragon-pulse', 'dragon-rush', 'focus-blast', 'shadow-claw', 'fire-fang', 'captivate', 'hone-claws', 'flame-burst', 'flame-charge', 'round', 'echoed-voice', 'incinerate', 'acrobatics', 'inferno', 'fire-pledge', 'dragon-tail', 'work-up', 'confide', 'power-up-punch', 'tera-blast']\n",
      "What move do you want to teach your Charmander: rage\n",
      "You just tought your Charmander rage\n",
      "Add another move? (y/n): n\n"
     ]
    }
   ],
   "source": [
    "# trapinch = Pokemon(\"trapinch\")\n",
    "# trapinch.teach_move()\n",
    "# trapinch = Move_Tutor()\n",
    "# trapinch.populate_move()\n",
    "# trapinch = teach_move()\n",
    "\n",
    "trapinch = Move_Tutor()\n",
    "trapinch.populate_move()\n",
    "trapinch.teach_move()"
   ]
  },
  {
   "cell_type": "code",
   "execution_count": 173,
   "metadata": {},
   "outputs": [
    {
     "name": "stdout",
     "output_type": "stream",
     "text": [
      "Your moves are: \n",
      "cut\n",
      "Your moves are: \n",
      "rage\n"
     ]
    }
   ],
   "source": [
    "trapinch.show_moves()"
   ]
  },
  {
   "cell_type": "code",
   "execution_count": null,
   "metadata": {},
   "outputs": [],
   "source": []
  }
 ],
 "metadata": {
  "kernelspec": {
   "display_name": "Python 3 (ipykernel)",
   "language": "python",
   "name": "python3"
  },
  "language_info": {
   "codemirror_mode": {
    "name": "ipython",
    "version": 3
   },
   "file_extension": ".py",
   "mimetype": "text/x-python",
   "name": "python",
   "nbconvert_exporter": "python",
   "pygments_lexer": "ipython3",
   "version": "3.9.7"
  }
 },
 "nbformat": 4,
 "nbformat_minor": 4
}
